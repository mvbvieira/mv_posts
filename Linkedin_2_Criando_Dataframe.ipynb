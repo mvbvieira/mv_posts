{
 "cells": [
  {
   "cell_type": "code",
   "execution_count": 65,
   "id": "a21a451d-4ebe-4085-946f-9ea6ec9bc858",
   "metadata": {},
   "outputs": [
    {
     "name": "stdout",
     "output_type": "stream",
     "text": [
      "Requirement already satisfied: Faker in /usr/local/lib/python3.9/dist-packages (15.0.0)\n",
      "Requirement already satisfied: python-dateutil>=2.4 in /usr/local/lib/python3.9/dist-packages (from Faker) (2.8.2)\n",
      "Requirement already satisfied: six>=1.5 in /usr/local/lib/python3.9/dist-packages (from python-dateutil>=2.4->Faker) (1.16.0)\n",
      "\u001b[33mWARNING: Running pip as the 'root' user can result in broken permissions and conflicting behaviour with the system package manager. It is recommended to use a virtual environment instead: https://pip.pypa.io/warnings/venv\u001b[0m\u001b[33m\n",
      "\u001b[0m"
     ]
    }
   ],
   "source": [
    "#Instalando LIBs\n",
    "!pip install Faker\n",
    "\n",
    "# Importações\n",
    "from pyspark.sql import SparkSession\n",
    "from faker import Faker\n",
    "\n",
    "# Iniciando Spark\n",
    "spark = (\n",
    "  SparkSession\n",
    "  .builder\n",
    "  .appName(\"MV_Post2\")\n",
    "  .getOrCreate()\n",
    ")"
   ]
  },
  {
   "cell_type": "code",
   "execution_count": 47,
   "id": "208ed5cd-3f5f-4564-838a-d892be432bed",
   "metadata": {},
   "outputs": [],
   "source": [
    "from faker import Faker\n",
    "\n",
    "fake = Faker('pt_BR')\n",
    "\n",
    "profiles = []\n",
    "\n",
    "for _ in range(100):\n",
    "    profiles.append(fake.profile())\n",
    "    \n",
    "dataframe = spark.createDataFrame(profiles)"
   ]
  },
  {
   "cell_type": "code",
   "execution_count": 61,
   "id": "14307978-8dee-45bc-b0b5-02adf0ff7bb7",
   "metadata": {},
   "outputs": [],
   "source": [
    "(\n",
    "    dataframe\n",
    "    .repartition(3)\n",
    "    .write\n",
    "    .mode(\"overwrite\")\n",
    "    .format(\"delta\")\n",
    "    .save(\"bronze/profiles\")\n",
    ")"
   ]
  },
  {
   "cell_type": "code",
   "execution_count": 64,
   "id": "6280745a-ee7d-411c-96ab-5b1f13d58fed",
   "metadata": {},
   "outputs": [
    {
     "name": "stdout",
     "output_type": "stream",
     "text": [
      "Repartition size : 3\n"
     ]
    }
   ],
   "source": []
  }
 ],
 "metadata": {
  "kernelspec": {
   "display_name": "Python 3 (ipykernel)",
   "language": "python",
   "name": "python3"
  },
  "language_info": {
   "codemirror_mode": {
    "name": "ipython",
    "version": 3
   },
   "file_extension": ".py",
   "mimetype": "text/x-python",
   "name": "python",
   "nbconvert_exporter": "python",
   "pygments_lexer": "ipython3",
   "version": "3.9.2"
  }
 },
 "nbformat": 4,
 "nbformat_minor": 5
}
